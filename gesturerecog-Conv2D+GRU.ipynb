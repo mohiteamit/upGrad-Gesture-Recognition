{
 "cells": [
  {
   "cell_type": "code",
   "execution_count": 1,
   "metadata": {},
   "outputs": [],
   "source": [
    "train_data = './data/train'\n",
    "train_labels = './data/train.csv'\n",
    "val_data = './data/val'\n",
    "val_labels = './data/val.csv'"
   ]
  },
  {
   "cell_type": "code",
   "execution_count": 2,
   "metadata": {},
   "outputs": [
    {
     "name": "stderr",
     "output_type": "stream",
     "text": [
      "2024-12-03 01:57:27.004708: I tensorflow/core/platform/cpu_feature_guard.cc:194] This TensorFlow binary is optimized with oneAPI Deep Neural Network Library (oneDNN) to use the following CPU instructions in performance-critical operations:  SSE3 SSE4.1 SSE4.2 AVX\n",
      "To enable them in other operations, rebuild TensorFlow with the appropriate compiler flags.\n",
      "2024-12-03 01:57:27.126528: I tensorflow/core/util/util.cc:169] oneDNN custom operations are on. You may see slightly different numerical results due to floating-point round-off errors from different computation orders. To turn them off, set the environment variable `TF_ENABLE_ONEDNN_OPTS=0`.\n"
     ]
    },
    {
     "name": "stdout",
     "output_type": "stream",
     "text": [
      "INFO:tensorflow:Mixed precision compatibility check (mixed_float16): OK\n",
      "Your GPU will likely run quickly with dtype policy mixed_float16 as it has compute capability of at least 7.0. Your GPU: NVIDIA RTX 6000 Ada Generation, compute capability 8.9\n"
     ]
    }
   ],
   "source": [
    "from tensorflow.keras import mixed_precision\n",
    "policy = mixed_precision.Policy('mixed_float16')\n",
    "mixed_precision.set_global_policy(policy)"
   ]
  },
  {
   "cell_type": "code",
   "execution_count": 3,
   "metadata": {},
   "outputs": [
    {
     "name": "stdout",
     "output_type": "stream",
     "text": [
      "mediapipe module not found. Skipping...\n",
      "Random seed set to 42\n"
     ]
    }
   ],
   "source": [
    "from utilities import GestureDataGenerator, plot_training_history, set_seed, get_callbacks, set_memorry_limit_for_tf\n",
    "set_seed(seed=42)"
   ]
  },
  {
   "cell_type": "code",
   "execution_count": 4,
   "metadata": {},
   "outputs": [
    {
     "name": "stdout",
     "output_type": "stream",
     "text": [
      "42 batches created, each of size 16, with 663 sequences of 30 images each. Use MediaPipe: False\n",
      "7 batches created, each of size 16, with 100 sequences of 30 images each. Use MediaPipe: False\n",
      "Input batch shape (X): (16, 30, 120, 120, 3)\n",
      "Labels batch shape (y): (16, 5)\n",
      "First label in batch (one-hot): [0. 0. 0. 1. 0.]\n"
     ]
    }
   ],
   "source": [
    "load_fraction = 1.0             # Full data load\n",
    "batch_size = 16                 # We are low on resources. We will go slow and steady.\n",
    "image_size = (120, 120)\n",
    "\n",
    "# Initialize the generator\n",
    "train_generator = GestureDataGenerator(\n",
    "    data_path=train_data,\n",
    "    labels_csv=train_labels,\n",
    "    batch_size=batch_size,\n",
    "    image_size=image_size,\n",
    "    # augmentations={\n",
    "    #     'rotation': 5,       # Rotate up to ±5 degrees\n",
    "    #     'brightness': True,  # Random brightness adjustment\n",
    "    #     'contrast': True,    # Random contrast adjustment\n",
    "    #     'blur': True         # Apply Gaussian blur\n",
    "    # },    \n",
    "    shuffle=True,\n",
    "    load_fraction=load_fraction,\n",
    "    debug=False,\n",
    "    use_mediapipe=False,\n",
    ")\n",
    "\n",
    "val_generator = GestureDataGenerator(\n",
    "    data_path=val_data,\n",
    "    labels_csv=val_labels,\n",
    "    batch_size=batch_size,\n",
    "    image_size=image_size,\n",
    "    augmentations=None,\n",
    "    shuffle=False,\n",
    "    load_fraction=1.0,\n",
    "    debug=False,\n",
    "    use_mediapipe=False,\n",
    ")\n",
    "\n",
    "# Get the first batch\n",
    "X, y = train_generator[0]\n",
    "\n",
    "# Print outputs\n",
    "print(\"Input batch shape (X):\", X.shape)  # Expected shape: (batch_size, sequence_length, 224, 224, 3)\n",
    "print(\"Labels batch shape (y):\", y.shape)  # Expected shape: (batch_size, num_classes)\n",
    "print(\"First label in batch (one-hot):\", y[0])"
   ]
  },
  {
   "cell_type": "code",
   "execution_count": 5,
   "metadata": {},
   "outputs": [],
   "source": [
    "# Define parameters\n",
    "sequence_length = train_generator.sequence_length                 # Frames per video (from generator)\n",
    "image_size = train_generator.image_size                           # Image size (height, width)\n",
    "num_classes = train_generator.num_classes                         # Number of gesture classes\n",
    "input_shape = (sequence_length, image_size[0], image_size[1], 3)  # Conv3D input shape"
   ]
  },
  {
   "cell_type": "code",
   "execution_count": 6,
   "metadata": {},
   "outputs": [
    {
     "name": "stderr",
     "output_type": "stream",
     "text": [
      "2024-12-03 01:57:29.343811: I tensorflow/core/platform/cpu_feature_guard.cc:194] This TensorFlow binary is optimized with oneAPI Deep Neural Network Library (oneDNN) to use the following CPU instructions in performance-critical operations:  SSE3 SSE4.1 SSE4.2 AVX\n",
      "To enable them in other operations, rebuild TensorFlow with the appropriate compiler flags.\n",
      "2024-12-03 01:57:29.490154: I tensorflow/core/common_runtime/gpu/gpu_device.cc:1637] Created device /job:localhost/replica:0/task:0/device:GPU:0 with 44826 MB memory:  -> device: 0, name: NVIDIA RTX 6000 Ada Generation, pci bus id: 0000:01:00.0, compute capability: 8.9\n"
     ]
    },
    {
     "name": "stdout",
     "output_type": "stream",
     "text": [
      "Model: \"sequential\"\n",
      "_________________________________________________________________\n",
      " Layer (type)                Output Shape              Param #   \n",
      "=================================================================\n",
      " time_distributed (TimeDistr  (None, 30, 120, 120, 16)  448      \n",
      " ibuted)                                                         \n",
      "                                                                 \n",
      " time_distributed_1 (TimeDis  (None, 30, 120, 120, 16)  64       \n",
      " tributed)                                                       \n",
      "                                                                 \n",
      " time_distributed_2 (TimeDis  (None, 30, 60, 60, 16)   0         \n",
      " tributed)                                                       \n",
      "                                                                 \n",
      " time_distributed_3 (TimeDis  (None, 30, 60, 60, 32)   4640      \n",
      " tributed)                                                       \n",
      "                                                                 \n",
      " time_distributed_4 (TimeDis  (None, 30, 60, 60, 32)   128       \n",
      " tributed)                                                       \n",
      "                                                                 \n",
      " time_distributed_5 (TimeDis  (None, 30, 30, 30, 32)   0         \n",
      " tributed)                                                       \n",
      "                                                                 \n",
      " time_distributed_6 (TimeDis  (None, 30, 30, 30, 64)   18496     \n",
      " tributed)                                                       \n",
      "                                                                 \n",
      " time_distributed_7 (TimeDis  (None, 30, 30, 30, 64)   256       \n",
      " tributed)                                                       \n",
      "                                                                 \n",
      " time_distributed_8 (TimeDis  (None, 30, 15, 15, 64)   0         \n",
      " tributed)                                                       \n",
      "                                                                 \n",
      " time_distributed_9 (TimeDis  (None, 30, 64)           0         \n",
      " tributed)                                                       \n",
      "                                                                 \n",
      " bidirectional (Bidirectiona  (None, 64)               18816     \n",
      " l)                                                              \n",
      "                                                                 \n",
      " dense (Dense)               (None, 64)                4160      \n",
      "                                                                 \n",
      " dropout (Dropout)           (None, 64)                0         \n",
      "                                                                 \n",
      " dense_1 (Dense)             (None, 5)                 325       \n",
      "                                                                 \n",
      "=================================================================\n",
      "Total params: 47,333\n",
      "Trainable params: 47,109\n",
      "Non-trainable params: 224\n",
      "_________________________________________________________________\n"
     ]
    }
   ],
   "source": [
    "from tensorflow.keras import layers, models, regularizers\n",
    "\n",
    "# Define the model\n",
    "model = models.Sequential([\n",
    "    # Input layer\n",
    "    layers.Input(shape=input_shape),  # Input shape: (timesteps, height, width, channels)\n",
    "\n",
    "    # Smaller CNN layers for feature extraction\n",
    "    layers.TimeDistributed(layers.Conv2D(16, (3, 3), activation='relu', padding='same')),\n",
    "    layers.TimeDistributed(layers.BatchNormalization()),\n",
    "    layers.TimeDistributed(layers.MaxPooling2D(pool_size=(2, 2), padding='same')),\n",
    "\n",
    "    layers.TimeDistributed(layers.Conv2D(32, (3, 3), activation='relu', padding='same')),\n",
    "    layers.TimeDistributed(layers.BatchNormalization()),\n",
    "    layers.TimeDistributed(layers.MaxPooling2D(pool_size=(2, 2), padding='same')),\n",
    "\n",
    "    layers.TimeDistributed(layers.Conv2D(64, (3, 3), activation='relu', padding='same')),\n",
    "    layers.TimeDistributed(layers.BatchNormalization()),\n",
    "    layers.TimeDistributed(layers.MaxPooling2D(pool_size=(2, 2), padding='same')),\n",
    "\n",
    "    # Global average pooling to reduce parameters\n",
    "    layers.TimeDistributed(layers.GlobalAveragePooling2D()),\n",
    "\n",
    "    # RNN layer for temporal modeling\n",
    "    layers.Bidirectional(layers.GRU(32, return_sequences=False, recurrent_activation='sigmoid')),  # cuDNN-compatible configuration\n",
    "\n",
    "    # Fully connected layers\n",
    "    layers.Dense(64, activation='relu', kernel_regularizer=regularizers.l2(0.01)),  # L2 regularization\n",
    "    layers.Dropout(0.4),\n",
    "\n",
    "    # Output layer\n",
    "    layers.Dense(num_classes, activation='softmax')  # Softmax for multi-class classification\n",
    "])\n",
    "\n",
    "# Compile the model\n",
    "model.compile(\n",
    "    optimizer='adam', \n",
    "    loss='categorical_crossentropy', \n",
    "    metrics=['accuracy']\n",
    ")\n",
    "\n",
    "# Print the model summary\n",
    "model.summary()"
   ]
  },
  {
   "cell_type": "code",
   "execution_count": 7,
   "metadata": {},
   "outputs": [],
   "source": [
    "model_save_location = 'best-models/Conv2D+GRU.keras'"
   ]
  },
  {
   "cell_type": "code",
   "execution_count": 8,
   "metadata": {},
   "outputs": [],
   "source": [
    "checkpoint_callback, reduce_lr_callback, early_stopping_callback = get_callbacks(\n",
    "    filepath = model_save_location, \n",
    "    save_best_only=True)"
   ]
  },
  {
   "cell_type": "code",
   "execution_count": 9,
   "metadata": {},
   "outputs": [
    {
     "name": "stdout",
     "output_type": "stream",
     "text": [
      "Epoch 1/50\n"
     ]
    },
    {
     "name": "stderr",
     "output_type": "stream",
     "text": [
      "2024-12-03 01:57:33.841030: I tensorflow/stream_executor/cuda/cuda_dnn.cc:424] Loaded cuDNN version 8700\n"
     ]
    },
    {
     "name": "stdout",
     "output_type": "stream",
     "text": [
      "42/42 [==============================] - 29s 625ms/step - loss: 2.0571 - accuracy: 0.3650 - val_loss: 2.1640 - val_accuracy: 0.1600 - lr: 0.0010\n",
      "Epoch 2/50\n",
      "42/42 [==============================] - 26s 616ms/step - loss: 1.7069 - accuracy: 0.4721 - val_loss: 2.3589 - val_accuracy: 0.2100 - lr: 0.0010\n",
      "Epoch 3/50\n",
      "42/42 [==============================] - 26s 621ms/step - loss: 1.5055 - accuracy: 0.5460 - val_loss: 2.7323 - val_accuracy: 0.1900 - lr: 0.0010\n",
      "Epoch 4/50\n",
      "42/42 [==============================] - 26s 611ms/step - loss: 1.3116 - accuracy: 0.6139 - val_loss: 2.9120 - val_accuracy: 0.1600 - lr: 0.0010\n",
      "Epoch 5/50\n",
      "42/42 [==============================] - 26s 614ms/step - loss: 1.2079 - accuracy: 0.6516 - val_loss: 2.7020 - val_accuracy: 0.1600 - lr: 0.0010\n",
      "Epoch 6/50\n",
      "42/42 [==============================] - ETA: 0s - loss: 1.1663 - accuracy: 0.6606\n",
      "Epoch 6: ReduceLROnPlateau reducing learning rate to 0.0005000000237487257.\n",
      "42/42 [==============================] - 27s 639ms/step - loss: 1.1663 - accuracy: 0.6606 - val_loss: 2.5530 - val_accuracy: 0.2800 - lr: 0.0010\n",
      "Epoch 7/50\n",
      "42/42 [==============================] - 26s 614ms/step - loss: 1.0249 - accuracy: 0.7315 - val_loss: 2.5879 - val_accuracy: 0.2400 - lr: 5.0000e-04\n",
      "Epoch 8/50\n",
      "42/42 [==============================] - 26s 614ms/step - loss: 0.9731 - accuracy: 0.7466 - val_loss: 2.6656 - val_accuracy: 0.1900 - lr: 5.0000e-04\n",
      "Epoch 9/50\n",
      "42/42 [==============================] - 26s 612ms/step - loss: 0.9080 - accuracy: 0.7572 - val_loss: 2.6097 - val_accuracy: 0.1700 - lr: 5.0000e-04\n",
      "Epoch 10/50\n",
      "42/42 [==============================] - 26s 614ms/step - loss: 0.8190 - accuracy: 0.7903 - val_loss: 2.6132 - val_accuracy: 0.2900 - lr: 5.0000e-04\n",
      "Epoch 11/50\n",
      "42/42 [==============================] - ETA: 0s - loss: 0.7975 - accuracy: 0.7873\n",
      "Epoch 11: ReduceLROnPlateau reducing learning rate to 0.0002500000118743628.\n",
      "42/42 [==============================] - 26s 619ms/step - loss: 0.7975 - accuracy: 0.7873 - val_loss: 2.6833 - val_accuracy: 0.2800 - lr: 5.0000e-04\n",
      "Epoch 12/50\n",
      "42/42 [==============================] - 26s 613ms/step - loss: 0.7817 - accuracy: 0.7979 - val_loss: 2.7092 - val_accuracy: 0.2800 - lr: 2.5000e-04\n",
      "Epoch 13/50\n",
      "42/42 [==============================] - 26s 615ms/step - loss: 0.7103 - accuracy: 0.8190 - val_loss: 2.2541 - val_accuracy: 0.3100 - lr: 2.5000e-04\n",
      "Epoch 14/50\n",
      "42/42 [==============================] - 26s 615ms/step - loss: 0.6761 - accuracy: 0.8462 - val_loss: 2.1292 - val_accuracy: 0.3300 - lr: 2.5000e-04\n",
      "Epoch 15/50\n",
      "42/42 [==============================] - 26s 624ms/step - loss: 0.6807 - accuracy: 0.8130 - val_loss: 1.9126 - val_accuracy: 0.4400 - lr: 2.5000e-04\n",
      "Epoch 16/50\n",
      "42/42 [==============================] - 26s 617ms/step - loss: 0.6852 - accuracy: 0.8190 - val_loss: 1.5353 - val_accuracy: 0.5300 - lr: 2.5000e-04\n",
      "Epoch 17/50\n",
      "42/42 [==============================] - 26s 620ms/step - loss: 0.6519 - accuracy: 0.8281 - val_loss: 1.1691 - val_accuracy: 0.6400 - lr: 2.5000e-04\n",
      "Epoch 18/50\n",
      "42/42 [==============================] - 26s 614ms/step - loss: 0.6127 - accuracy: 0.8522 - val_loss: 1.1858 - val_accuracy: 0.6200 - lr: 2.5000e-04\n",
      "Epoch 19/50\n",
      "42/42 [==============================] - 26s 618ms/step - loss: 0.6109 - accuracy: 0.8552 - val_loss: 0.7091 - val_accuracy: 0.8100 - lr: 2.5000e-04\n",
      "Epoch 20/50\n",
      "42/42 [==============================] - 26s 613ms/step - loss: 0.5771 - accuracy: 0.8673 - val_loss: 0.5867 - val_accuracy: 0.8500 - lr: 2.5000e-04\n",
      "Epoch 21/50\n",
      "42/42 [==============================] - 26s 618ms/step - loss: 0.5498 - accuracy: 0.8778 - val_loss: 0.6227 - val_accuracy: 0.8500 - lr: 2.5000e-04\n",
      "Epoch 22/50\n",
      "42/42 [==============================] - 26s 618ms/step - loss: 0.5479 - accuracy: 0.8733 - val_loss: 0.6212 - val_accuracy: 0.8400 - lr: 2.5000e-04\n",
      "Epoch 23/50\n",
      "42/42 [==============================] - 26s 620ms/step - loss: 0.5601 - accuracy: 0.8658 - val_loss: 0.6171 - val_accuracy: 0.8200 - lr: 2.5000e-04\n",
      "Epoch 24/50\n",
      "42/42 [==============================] - 26s 621ms/step - loss: 0.4988 - accuracy: 0.8884 - val_loss: 0.5202 - val_accuracy: 0.8700 - lr: 2.5000e-04\n",
      "Epoch 25/50\n",
      "42/42 [==============================] - 26s 627ms/step - loss: 0.4878 - accuracy: 0.8914 - val_loss: 0.5551 - val_accuracy: 0.8800 - lr: 2.5000e-04\n",
      "Epoch 26/50\n",
      "42/42 [==============================] - 26s 613ms/step - loss: 0.4783 - accuracy: 0.8869 - val_loss: 0.6716 - val_accuracy: 0.7600 - lr: 2.5000e-04\n",
      "Epoch 27/50\n",
      "42/42 [==============================] - 26s 622ms/step - loss: 0.4756 - accuracy: 0.9020 - val_loss: 0.4797 - val_accuracy: 0.8900 - lr: 2.5000e-04\n",
      "Epoch 28/50\n",
      "42/42 [==============================] - 26s 619ms/step - loss: 0.4618 - accuracy: 0.8869 - val_loss: 0.5908 - val_accuracy: 0.8000 - lr: 2.5000e-04\n",
      "Epoch 29/50\n",
      "42/42 [==============================] - 26s 616ms/step - loss: 0.4504 - accuracy: 0.8914 - val_loss: 0.4891 - val_accuracy: 0.8700 - lr: 2.5000e-04\n",
      "Epoch 30/50\n",
      "42/42 [==============================] - 26s 608ms/step - loss: 0.4248 - accuracy: 0.9231 - val_loss: 0.4821 - val_accuracy: 0.8900 - lr: 2.5000e-04\n",
      "Epoch 31/50\n",
      "42/42 [==============================] - 26s 618ms/step - loss: 0.4331 - accuracy: 0.9155 - val_loss: 1.0488 - val_accuracy: 0.6300 - lr: 2.5000e-04\n",
      "Epoch 32/50\n",
      "42/42 [==============================] - ETA: 0s - loss: 0.4228 - accuracy: 0.9125\n",
      "Epoch 32: ReduceLROnPlateau reducing learning rate to 0.0001250000059371814.\n",
      "42/42 [==============================] - 26s 617ms/step - loss: 0.4228 - accuracy: 0.9125 - val_loss: 0.4900 - val_accuracy: 0.8300 - lr: 2.5000e-04\n",
      "Epoch 33/50\n",
      "42/42 [==============================] - 26s 621ms/step - loss: 0.3969 - accuracy: 0.9095 - val_loss: 0.4247 - val_accuracy: 0.8900 - lr: 1.2500e-04\n",
      "Epoch 34/50\n",
      "42/42 [==============================] - 26s 616ms/step - loss: 0.3845 - accuracy: 0.9155 - val_loss: 0.4917 - val_accuracy: 0.8800 - lr: 1.2500e-04\n",
      "Epoch 35/50\n",
      "42/42 [==============================] - 26s 614ms/step - loss: 0.3651 - accuracy: 0.9397 - val_loss: 0.4645 - val_accuracy: 0.9000 - lr: 1.2500e-04\n",
      "Epoch 36/50\n",
      "42/42 [==============================] - 26s 616ms/step - loss: 0.3718 - accuracy: 0.9367 - val_loss: 0.4081 - val_accuracy: 0.9200 - lr: 1.2500e-04\n",
      "Epoch 37/50\n",
      "42/42 [==============================] - 26s 610ms/step - loss: 0.3501 - accuracy: 0.9382 - val_loss: 0.3966 - val_accuracy: 0.9000 - lr: 1.2500e-04\n",
      "Epoch 38/50\n",
      "42/42 [==============================] - 26s 611ms/step - loss: 0.3855 - accuracy: 0.9216 - val_loss: 0.4129 - val_accuracy: 0.9000 - lr: 1.2500e-04\n",
      "Epoch 39/50\n",
      "42/42 [==============================] - 26s 612ms/step - loss: 0.3541 - accuracy: 0.9397 - val_loss: 0.5604 - val_accuracy: 0.8300 - lr: 1.2500e-04\n",
      "Epoch 40/50\n",
      "42/42 [==============================] - 26s 614ms/step - loss: 0.3300 - accuracy: 0.9442 - val_loss: 0.4224 - val_accuracy: 0.9000 - lr: 1.2500e-04\n",
      "Epoch 41/50\n",
      "42/42 [==============================] - 26s 617ms/step - loss: 0.3246 - accuracy: 0.9548 - val_loss: 0.5024 - val_accuracy: 0.8500 - lr: 1.2500e-04\n",
      "Epoch 42/50\n",
      "42/42 [==============================] - ETA: 0s - loss: 0.3348 - accuracy: 0.9351\n",
      "Epoch 42: ReduceLROnPlateau reducing learning rate to 6.25000029685907e-05.\n",
      "42/42 [==============================] - 26s 614ms/step - loss: 0.3348 - accuracy: 0.9351 - val_loss: 0.4028 - val_accuracy: 0.8900 - lr: 1.2500e-04\n",
      "Epoch 43/50\n",
      "42/42 [==============================] - 26s 611ms/step - loss: 0.3078 - accuracy: 0.9548 - val_loss: 0.3969 - val_accuracy: 0.8900 - lr: 6.2500e-05\n",
      "Epoch 44/50\n",
      "42/42 [==============================] - 26s 610ms/step - loss: 0.2973 - accuracy: 0.9502 - val_loss: 0.3876 - val_accuracy: 0.8900 - lr: 6.2500e-05\n",
      "Epoch 45/50\n",
      "42/42 [==============================] - 26s 611ms/step - loss: 0.2803 - accuracy: 0.9698 - val_loss: 0.3934 - val_accuracy: 0.9100 - lr: 6.2500e-05\n",
      "Epoch 46/50\n",
      "42/42 [==============================] - ETA: 0s - loss: 0.3124 - accuracy: 0.9532Restoring model weights from the end of the best epoch: 36.\n",
      "42/42 [==============================] - 26s 628ms/step - loss: 0.3124 - accuracy: 0.9532 - val_loss: 0.4098 - val_accuracy: 0.9100 - lr: 6.2500e-05\n",
      "Epoch 46: early stopping\n"
     ]
    },
    {
     "data": {
      "image/png": "[encoded data removed]",
      "text/plain": [
       "<Figure size 1200x500 with 2 Axes>"
      ]
     },
     "metadata": {},
     "output_type": "display_data"
    }
   ],
   "source": [
    "# Train the model\n",
    "history_1 = model.fit(\n",
    "    x=train_generator,\n",
    "    validation_data=val_generator,\n",
    "    epochs=50,\n",
    "    callbacks=[checkpoint_callback, reduce_lr_callback, early_stopping_callback],\n",
    "    verbose=1\n",
    ")\n",
    "\n",
    "plot_training_history(histories=[history_1])"
   ]
  },
  {
   "cell_type": "code",
   "execution_count": 10,
   "metadata": {},
   "outputs": [],
   "source": [
    "# model.load_weights(model_save_location)\n",
    "\n",
    "# # Train the model for more epochs\n",
    "# history_2 = model.fit(\n",
    "#     x=train_generator,\n",
    "#     validation_data=val_generator,\n",
    "#     epochs=50,                  # Train for more epochs\n",
    "#     initial_epoch=30,           # Start counting previous epochs\n",
    "#     callbacks=[checkpoint_callback, reduce_lr_callback, early_stopping_callback],\n",
    "#     verbose=1\n",
    "# )\n",
    "\n",
    "# plot_training_history(histories=[history_1, history_2])"
   ]
  },
  {
   "cell_type": "code",
   "execution_count": 11,
   "metadata": {},
   "outputs": [],
   "source": [
    "# model.load_weights(model_save_location)\n",
    "\n",
    "# # Train the model for more epochs\n",
    "# history_3 = model.fit(\n",
    "#     x=train_generator,\n",
    "#     validation_data=val_generator,\n",
    "#     epochs=50,                   # Train for more epochs\n",
    "#     initial_epoch=30,            # Start counting previous epochs\n",
    "#     callbacks=[checkpoint_callback, reduce_lr_callback, early_stopping_callback],\n",
    "#     verbose=1\n",
    "# )\n",
    "\n",
    "# plot_training_history(histories=[history_1, history_2, history_3])"
   ]
  },
  {
   "cell_type": "code",
   "execution_count": 12,
   "metadata": {},
   "outputs": [
    {
     "name": "stdout",
     "output_type": "stream",
     "text": [
      "4/7 [================>.............] - ETA: 1s - loss: 0.4600 - accuracy: 0.8906"
     ]
    },
    {
     "name": "stdout",
     "output_type": "stream",
     "text": [
      "7/7 [==============================] - 4s 594ms/step - loss: 0.4081 - accuracy: 0.9200\n",
      "loss: 0.4081\n",
      "accuracy: 0.9200\n"
     ]
    }
   ],
   "source": [
    "model.load_weights(model_save_location)\n",
    "\n",
    "evaluation_results = model.evaluate(val_generator, verbose=1)\n",
    "\n",
    "for metric, value in zip(model.metrics_names, evaluation_results):\n",
    "    print(f\"{metric}: {value:.4f}\")"
   ]
  },
  {
   "cell_type": "code",
   "execution_count": 13,
   "metadata": {},
   "outputs": [
    {
     "name": "stdout",
     "output_type": "stream",
     "text": [
      "42/42 [==============================] - 22s 521ms/step - loss: 0.2769 - accuracy: 0.9774\n",
      "loss: 0.2769\n",
      "accuracy: 0.9774\n"
     ]
    }
   ],
   "source": [
    "model.load_weights(model_save_location)\n",
    "\n",
    "evaluation_results = model.evaluate(train_generator, verbose=1)\n",
    "\n",
    "for metric, value in zip(model.metrics_names, evaluation_results):\n",
    "    print(f\"{metric}: {value:.4f}\")"
   ]
  }
 ],
 "metadata": {
  "kernelspec": {
   "display_name": "Python 3 (ipykernel)",
   "language": "python",
   "name": "python3"
  },
  "language_info": {
   "codemirror_mode": {
    "name": "ipython",
    "version": 3
   },
   "file_extension": ".py",
   "mimetype": "text/x-python",
   "name": "python",
   "nbconvert_exporter": "python",
   "pygments_lexer": "ipython3",
   "version": "3.8.10"
  }
 },
 "nbformat": 4,
 "nbformat_minor": 2
}
