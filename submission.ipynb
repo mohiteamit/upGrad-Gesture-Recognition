{
 "cells": [
  {
   "cell_type": "code",
   "execution_count": null,
   "metadata": {},
   "outputs": [],
   "source": [
    "test_data = './data/val'\n",
    "test_labels = './data/val.csv'"
   ]
  },
  {
   "cell_type": "code",
   "execution_count": null,
   "metadata": {},
   "outputs": [],
   "source": [
    "import os\n",
    "import requests\n",
    "\n",
    "# File name and URL\n",
    "file_name = \"utilities.py\"\n",
    "url = \"https://raw.githubusercontent.com/mohiteamit/upGrad-Gesture-Recognition/refs/heads/main/utilities.py\"\n",
    "\n",
    "# Check if the file exists\n",
    "if not os.path.exists(file_name):\n",
    "    print(f\"{file_name} not found. Downloading...\")\n",
    "    try:\n",
    "        response = requests.get(url)\n",
    "        if response.ok:\n",
    "            with open(file_name, \"wb\") as file:\n",
    "                file.write(response.content)\n",
    "            print(f\"{file_name} downloaded successfully.\")\n",
    "        else:\n",
    "            print(f\"Failed to download {file_name}. HTTP Status Code: {response.status_code}\")\n",
    "            exit(1)\n",
    "    except Exception as e:\n",
    "        print(f\"Error downloading {file_name}: {e}\")\n",
    "        exit(1)"
   ]
  },
  {
   "cell_type": "code",
   "execution_count": null,
   "metadata": {},
   "outputs": [],
   "source": [
    "import os\n",
    "import requests\n",
    "\n",
    "# List of model URLs\n",
    "model_urls = [\n",
    "    \"https://github.com/mohiteamit/upGrad-Gesture-Recognition/raw/refs/heads/main/best-models/Conv2D+GRU.keras\",\n",
    "    \"https://github.com/mohiteamit/upGrad-Gesture-Recognition/raw/refs/heads/main/best-models/Conv2D+LSTM.keras\",\n",
    "    \"https://github.com/mohiteamit/upGrad-Gesture-Recognition/raw/refs/heads/main/best-models/Conv3D-32-64-128.keras\",\n",
    "    \"https://github.com/mohiteamit/upGrad-Gesture-Recognition/raw/refs/heads/main/best-models/pretrained-MobileNetV2+GRU.keras\",\n",
    "    \"https://github.com/mohiteamit/upGrad-Gesture-Recognition/raw/refs/heads/main/best-models/pretrained-MobileNetV3Small+GRU.keras\",\n",
    "    \"https://github.com/mohiteamit/upGrad-Gesture-Recognition/raw/refs/heads/main/best-models/pretrained-mediapipe+gru.keras\",\n",
    "]\n",
    "\n",
    "# Directory to save models\n",
    "output_dir = \"models_to_evaluate\"\n",
    "os.makedirs(output_dir, exist_ok=True)\n",
    "\n",
    "# Function to verify file integrity\n",
    "def verify_file(file_path, url):\n",
    "    with open(file_path, 'rb') as f:\n",
    "        local_content = f.read()\n",
    "    response = requests.get(url)\n",
    "    return response.ok and local_content == response.content\n",
    "\n",
    "# Download models\n",
    "for url in model_urls:\n",
    "    filename = os.path.join(output_dir, os.path.basename(url))\n",
    "    try:\n",
    "        if not os.path.exists(filename) or not verify_file(filename, url):\n",
    "            response = requests.get(url)\n",
    "            if response.ok:\n",
    "                with open(filename, 'wb') as f:\n",
    "                    f.write(response.content)\n",
    "            else:\n",
    "                print(f\"Failed to download: {url}\")\n",
    "    except Exception as e:\n",
    "        print(f\"Error processing {url}: {e}\")\n",
    "\n",
    "print(\"Models downloaded.\")"
   ]
  },
  {
   "cell_type": "code",
   "execution_count": null,
   "metadata": {},
   "outputs": [],
   "source": [
    "from utilities import GestureDataGenerator"
   ]
  },
  {
   "cell_type": "code",
   "execution_count": null,
   "metadata": {},
   "outputs": [],
   "source": [
    "from tensorflow.keras.models import load_model"
   ]
  },
  {
   "cell_type": "code",
   "execution_count": null,
   "metadata": {},
   "outputs": [],
   "source": [
    "load_fraction = 1.0\n",
    "image_size = (120, 120)\n",
    "\n",
    "test_generator = GestureDataGenerator(\n",
    "    data_path=test_data,\n",
    "    labels_csv=test_labels,\n",
    "    image_size=image_size,\n",
    "    debug=False,\n",
    ")\n",
    "\n",
    "Conv2D_GRU = load_model('models_to_evaluate/Conv2D+GRU.keras')                   # Best image size 120x120\n",
    "Conv2D_GRU.summary()\n",
    "evaluation_results = Conv2D_GRU.evaluate(test_generator)\n",
    "for metric, value in zip(Conv2D_GRU.metrics_names, evaluation_results):\n",
    "    print(f\"{metric}: {value:.4f}\")"
   ]
  },
  {
   "cell_type": "code",
   "execution_count": null,
   "metadata": {},
   "outputs": [],
   "source": [
    "load_fraction = 1.0\n",
    "batch_size = 64\n",
    "image_size = (120, 120)\n",
    "\n",
    "test_generator = GestureDataGenerator(\n",
    "    data_path=test_data,\n",
    "    labels_csv=test_labels,\n",
    "    batch_size=batch_size,\n",
    "    image_size=image_size,\n",
    "    augmentations=None,\n",
    "    shuffle=False,\n",
    "    load_fraction=1.0,\n",
    "    debug=False,\n",
    "    use_mediapipe=False,\n",
    ")\n",
    "\n",
    "Conv2D_LSTM = load_model('models_to_evaluate/Conv2D+LSTM.keras')                   # Best image size 120x120\n",
    "Conv2D_LSTM.summary()\n",
    "evaluation_results = Conv2D_LSTM.evaluate(test_generator)\n",
    "for metric, value in zip(Conv2D_LSTM.metrics_names, evaluation_results):\n",
    "    print(f\"{metric}: {value:.4f}\")"
   ]
  },
  {
   "cell_type": "code",
   "execution_count": null,
   "metadata": {},
   "outputs": [],
   "source": [
    "batch_size = 1\n",
    "image_size = (200, 200)\n",
    "\n",
    "test_generator = GestureDataGenerator(\n",
    "    data_path=test_data,\n",
    "    labels_csv=test_labels,\n",
    "    image_size=image_size,\n",
    "    debug=False,\n",
    ")\n",
    "\n",
    "Conv3D_32_64_128 = load_model('models_to_evaluate/Conv3D-32-64-128.keras')                   # Best image size 120x120\n",
    "Conv3D_32_64_128.summary()\n",
    "evaluation_results = Conv3D_32_64_128.evaluate(test_generator)\n",
    "for metric, value in zip(Conv3D_32_64_128.metrics_names, evaluation_results):\n",
    "    print(f\"{metric}: {value:.4f}\")"
   ]
  },
  {
   "cell_type": "code",
   "execution_count": null,
   "metadata": {},
   "outputs": [],
   "source": [
    "# mediapipe_GRU = load_model('models_to_evaluate/pretrained-mediapipe+gru.keras')                   # Best image size 120x120\n",
    "# mediapipe_GRU.summary()\n",
    "# evaluation_results = mediapipe_GRU.evaluate(test_generator)\n",
    "# for metric, value in zip(mediapipe_GRU.metrics_names, evaluation_results):\n",
    "#     print(f\"{metric}: {value:.4f}\")"
   ]
  },
  {
   "cell_type": "code",
   "execution_count": null,
   "metadata": {},
   "outputs": [],
   "source": [
    "# MobileNetV2_GRU = load_model('best-models/pretrained-MobileNetV2+GRU.keras')                   # Best image size 120x120\n",
    "# MobileNetV2_GRU.summary()\n",
    "# evaluation_results = MobileNetV2_GRU.evaluate(test_generator)\n",
    "# for metric, value in zip(MobileNetV2_GRU.metrics_names, evaluation_results):\n",
    "#     print(f\"{metric}: {value:.4f}\")"
   ]
  }
 ],
 "metadata": {
  "kernelspec": {
   "display_name": "Python 3",
   "language": "python",
   "name": "python3"
  },
  "language_info": {
   "codemirror_mode": {
    "name": "ipython",
    "version": 3
   },
   "file_extension": ".py",
   "mimetype": "text/x-python",
   "name": "python",
   "nbconvert_exporter": "python",
   "pygments_lexer": "ipython3",
   "version": "3.8.10"
  }
 },
 "nbformat": 4,
 "nbformat_minor": 2
}
